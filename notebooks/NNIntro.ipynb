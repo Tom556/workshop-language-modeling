{
 "cells": [
  {
   "cell_type": "markdown",
   "metadata": {},
   "source": [
    "# NN and Keras Intro"
   ]
  },
  {
   "cell_type": "code",
   "execution_count": null,
   "metadata": {
    "collapsed": true
   },
   "outputs": [],
   "source": [
    "from __future__ import print_function\n",
    "\n",
    "import tensorflow as tf\n",
    "from tensorflow.python import  keras\n",
    "from tensorflow.python.keras.datasets import mnist\n",
    "from tensorflow.python.keras.models import Sequential\n",
    "from tensorflow.python.keras.layers import Dense, Dropout\n",
    "from tensorflow.python.keras.optimizers import RMSprop\n",
    "import matplotlib.pyplot as plt\n",
    "import numpy as np\n",
    "import random\n",
    "import sys\n"
   ]
  },
  {
   "cell_type": "markdown",
   "metadata": {},
   "source": [
    "# Mnist\n",
    "\n",
    "Mnist consist of handwritten digits. \n",
    "\n",
    "At first we load the data. Random records are presented."
   ]
  },
  {
   "cell_type": "code",
   "execution_count": null,
   "metadata": {
    "collapsed": true
   },
   "outputs": [],
   "source": [
    "# the data, split between train and test sets\n",
    "(x_train, y_train), (x_test, y_test) = mnist.load_data()\n",
    "\n",
    "print(x_train.shape[0], 'train samples')\n",
    "print(x_test.shape[0], 'test samples')\n",
    "\n",
    "random_indices = np.random.randint(0, x_train.shape[0], size=9)\n",
    "\n",
    "fig = plt.figure(figsize=(12,12))\n",
    "for i, ridx in enumerate(random_indices):\n",
    "    fig.add_subplot(3,3,i+1)\n",
    "    plt.title('Label is {label}'.format(label=y_train[ridx]))\n",
    "    plt.imshow(x_train[ridx], cmap='gray')\n",
    "plt.show()"
   ]
  },
  {
   "cell_type": "markdown",
   "metadata": {},
   "source": [
    "## Preprocessing\n",
    "\n",
    "To run the model we need to preprocess data first:\n",
    "\n",
    "* Reshape pictures into one dimension\n",
    "* Data standarization to 0.0 - 1.0\n",
    "* Labels are changed into one-hot vectors"
   ]
  },
  {
   "cell_type": "code",
   "execution_count": null,
   "metadata": {
    "collapsed": true
   },
   "outputs": [],
   "source": [
    "num_classes = 10\n",
    "\n",
    "\n",
    "x_train = x_train.reshape(60000, 784)\n",
    "x_test = x_test.reshape(10000, 784)\n",
    "x_train = x_train.astype('float32')\n",
    "x_test = x_test.astype('float32')\n",
    "x_train /= 255\n",
    "x_test /= 255\n",
    "\n",
    "\n",
    "# convert class vectors to binary class matrices\n",
    "y_train = keras.utils.to_categorical(y_train, num_classes)\n",
    "y_test = keras.utils.to_categorical(y_test, num_classes)"
   ]
  },
  {
   "cell_type": "markdown",
   "metadata": {},
   "source": [
    "## Classification model\n",
    "\n",
    "We build simple model with two hidden layers to classify digits."
   ]
  },
  {
   "cell_type": "code",
   "execution_count": null,
   "metadata": {
    "collapsed": true
   },
   "outputs": [],
   "source": [
    "model = Sequential()\n",
    "model.add(Dense(512, activation='relu', input_shape=(784,)))\n",
    "model.add(Dense(512, activation='relu'))\n",
    "model.add(Dense(num_classes, activation='softmax'))\n",
    "\n",
    "model.compile(loss='categorical_crossentropy',\n",
    "              optimizer=RMSprop(),\n",
    "              metrics=['accuracy'])"
   ]
  },
  {
   "cell_type": "markdown",
   "metadata": {},
   "source": [
    "## Training and evaluation\n",
    "\n",
    "Model is trained for 20 epochs (i.e. 20 iterations through test set). It should take about 5 minutes."
   ]
  },
  {
   "cell_type": "code",
   "execution_count": null,
   "metadata": {
    "collapsed": true
   },
   "outputs": [],
   "source": [
    "epochs = 20\n",
    "\n",
    "model.fit(x_train, y_train,\n",
    "                    batch_size=128,\n",
    "                    epochs=epochs,\n",
    "                    verbose=1,\n",
    "                    validation_data=(x_test, y_test))\n",
    "score = model.evaluate(x_test, y_test, verbose=0)\n",
    "print('Test loss: {:.6f}'.format(score[0]))\n",
    "print('Test accuracy: {:.2f} %'.format(score[1]*100))"
   ]
  },
  {
   "cell_type": "markdown",
   "metadata": {},
   "source": [
    "## TASK: Add dropout\n",
    "\n",
    "We can drop out some connections during training (see presentation).\n",
    "\n",
    "https://keras.io/layers/core/#dropout\n",
    "\n",
    "Dropout 0.2 for input layer and 0.5 for hidden layers should work fine. Please add dropout to hidden layers. "
   ]
  },
  {
   "cell_type": "code",
   "execution_count": null,
   "metadata": {
    "collapsed": true
   },
   "outputs": [],
   "source": [
    "model_do = Sequential()\n",
    "model_do.add(Dropout(0.2, input_shape=(784,)))\n",
    "model_do.add(Dense(512, activation='relu'))\n",
    "# TODO: Add dropout to hidden layers\n",
    "model_do.add(Dense(512, activation='relu'))\n",
    "\n",
    "model_do.add(Dense(num_classes, activation='softmax'))\n",
    "\n",
    "\n",
    "model_do.compile(loss='categorical_crossentropy',\n",
    "              optimizer=RMSprop(),\n",
    "              metrics=['accuracy'])"
   ]
  },
  {
   "cell_type": "markdown",
   "metadata": {},
   "source": [
    "Train and evaluate model with dropout.\n",
    "\n",
    "Have you noticed anything?"
   ]
  },
  {
   "cell_type": "code",
   "execution_count": null,
   "metadata": {
    "collapsed": true
   },
   "outputs": [],
   "source": [
    "model_do.fit(x_train, y_train,\n",
    "                    batch_size=128,\n",
    "                    epochs=epochs,\n",
    "                    verbose=1,\n",
    "                    validation_data=(x_test, y_test))\n",
    "score_do = model_do.evaluate(x_test, y_test, verbose=0)\n",
    "improve = (score_do[1] - score[1])/(1.0-score[1])\n",
    "print('Test loss: {:.6f}'.format(score_do[0]))\n",
    "print('Test accuracy: {:.2f} %'.format(score_do[1]*100))\n",
    "print('Accuracy improvement: {:.2f} %'.format(improve*100))"
   ]
  }
 ],
 "metadata": {
  "kernelspec": {
   "display_name": "Python 3",
   "language": "python",
   "name": "python3"
  },
  "language_info": {
   "codemirror_mode": {
    "name": "ipython",
    "version": 3
   },
   "file_extension": ".py",
   "mimetype": "text/x-python",
   "name": "python",
   "nbconvert_exporter": "python",
   "pygments_lexer": "ipython3",
   "version": "3.6.3"
  }
 },
 "nbformat": 4,
 "nbformat_minor": 2
}
